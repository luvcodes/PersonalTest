{
 "cells": [
  {
   "cell_type": "markdown",
   "id": "67656274",
   "metadata": {},
   "source": [
    "# Navier Stokes 2D\n",
    "\n",
    "$Loss = Loss_{PDE} + Loss_{IC} + Loss_{BC}$\n",
    "\n",
    "训练的目标是：找一个函数 $f(x,y,t)=[u,v,p]$，使得这些 Loss 全都尽量小。"
   ]
  },
  {
   "cell_type": "markdown",
   "id": "f0044957",
   "metadata": {},
   "source": [
    "引入必要的库"
   ]
  },
  {
   "cell_type": "code",
   "execution_count": 1,
   "id": "91998bf0",
   "metadata": {},
   "outputs": [
    {
     "name": "stderr",
     "output_type": "stream",
     "text": [
      "Using backend: pytorch\n",
      "\n"
     ]
    }
   ],
   "source": [
    "import deepxde as dde\n",
    "import numpy as np"
   ]
  },
  {
   "cell_type": "markdown",
   "id": "f6265dc1",
   "metadata": {},
   "source": [
    "## 1. 定义粘性系数"
   ]
  },
  {
   "cell_type": "code",
   "execution_count": 2,
   "id": "d2f6644c",
   "metadata": {},
   "outputs": [],
   "source": [
    "# 粘性系数\n",
    "# 流体的运动粘性系数（viscosity），值越大流体越粘稠，流体越不容易流动\n",
    "nu = 0.01"
   ]
  },
  {
   "cell_type": "markdown",
   "id": "85d3f726",
   "metadata": {},
   "source": [
    "## 2. 定义PDE方程"
   ]
  },
  {
   "cell_type": "code",
   "execution_count": null,
   "id": "6270640e",
   "metadata": {},
   "outputs": [],
   "source": [
    "# PDE 残差定义\n",
    "def navier_stokes(x, y):\n",
    "    u = y[:, 0:1]  # 提取x方向速度，保持形状为 (N, 1)\n",
    "    v = y[:, 1:2]  # 提取y方向速度\n",
    "    p = y[:, 2:3]  # 提取压力\n",
    "\n",
    "    # 计算各种偏导数\n",
    "    # jacobian 函数利用自动微分技术计算偏导数\n",
    "    # hessian 函数计算二阶偏导数\n",
    "    u_x = dde.grad.jacobian(y, x, i=0, j=0)\n",
    "    u_y = dde.grad.jacobian(y, x, i=0, j=1)\n",
    "    u_t = dde.grad.jacobian(y, x, i=0, j=2)\n",
    "    u_xx = dde.grad.hessian(y, x, component=0, i=0, j=0)\n",
    "    u_yy = dde.grad.hessian(y, x, component=0, i=1, j=1)\n",
    "\n",
    "    v_x = dde.grad.jacobian(y, x, i=1, j=0)\n",
    "    v_y = dde.grad.jacobian(y, x, i=1, j=1)\n",
    "    v_t = dde.grad.jacobian(y, x, i=1, j=2)\n",
    "    v_xx = dde.grad.hessian(y, x, component=1, i=0, j=0)\n",
    "    v_yy = dde.grad.hessian(y, x, component=1, i=1, j=1)\n",
    "\n",
    "    p_x = dde.grad.jacobian(y, x, i=2, j=0)\n",
    "    p_y = dde.grad.jacobian(y, x, i=2, j=1)\n",
    "\n",
    "    # 定义三个方程的残差\n",
    "    # eq1 和 eq2 是动量守恒方程\n",
    "    # eq3 是质量守恒方程（不可压缩条件：∇·v = 0）\n",
    "    eq1 = u_t + u * u_x + v * u_y + p_x - nu * (u_xx + u_yy)\n",
    "    eq2 = v_t + u * v_x + v * v_y + p_y - nu * (v_xx + v_yy)\n",
    "    eq3 = u_x + v_y\n",
    "\n",
    "    # 这就是告诉 DeepXDE：\n",
    "    # “请帮我最小化这个残差列表中的每一项，使它尽可能接近 0”\n",
    "    # 这样，神经网络就会学习到如何满足这些方程\n",
    "    return [eq1, eq2, eq3]"
   ]
  },
  {
   "cell_type": "markdown",
   "id": "36d1e5bb",
   "metadata": {},
   "source": [
    "## 3. 定义计算域"
   ]
  },
  {
   "cell_type": "code",
   "execution_count": null,
   "id": "1f306808",
   "metadata": {},
   "outputs": [],
   "source": [
    "# 空间与时间定义\n",
    "geom = dde.geometry.Rectangle([0, 0], [1, 1])  # 空间域：单位正方形\n",
    "timedomain = dde.geometry.TimeDomain(0, 1)     # 时间域：0到1秒\n",
    "geomtime = dde.geometry.GeometryXTime(geom, timedomain)  # 求解区域是这个三维立方体 (x, y, t)。"
   ]
  },
  {
   "cell_type": "markdown",
   "id": "cec24f93",
   "metadata": {},
   "source": [
    "## 4. 定义初始条件"
   ]
  },
  {
   "cell_type": "code",
   "execution_count": null,
   "id": "c0b82da0",
   "metadata": {},
   "outputs": [],
   "source": [
    "# 初始条件是流体在初始时刻（t=0）的分布\n",
    "# 这里设置为静止流体，即u=0, v=0, p=0\n",
    "def func_u(x): return np.zeros((len(x), 1))\n",
    "def func_v(x): return np.zeros((len(x), 1))\n",
    "def func_p(x): return np.zeros((len(x), 1))\n",
    "\n",
    "# dde.IC: 初始条件（Initial Condition）\n",
    "# component=0/1/2 分别表示作用在 u/v/p 上\n",
    "ic_u = dde.IC(geomtime, func_u, lambda _, on_initial: on_initial, component=0)\n",
    "ic_v = dde.IC(geomtime, func_v, lambda _, on_initial: on_initial, component=1)\n",
    "ic_p = dde.IC(geomtime, func_p, lambda _, on_initial: on_initial, component=2)"
   ]
  },
  {
   "cell_type": "markdown",
   "id": "981406bb",
   "metadata": {},
   "source": [
    "## 5. 创建数据对象\n",
    "使用多少个采样点：\n",
    "- 2000 个空间-时间内部点（用于最小化 PDE 残差）\n",
    "- 200 个边界点（虽然你没定义边界条件，但默认仍采样）\n",
    "- 200 个初始条件点\n",
    "- 1000 个测试点（可视化用）"
   ]
  },
  {
   "cell_type": "code",
   "execution_count": null,
   "id": "14cf9bac",
   "metadata": {},
   "outputs": [
    {
     "name": "stdout",
     "output_type": "stream",
     "text": [
      "Warning: 32 points required, but 36 points sampled.\n",
      "Warning: 1000 points required, but 1152 points sampled.\n"
     ]
    }
   ],
   "source": [
    "# 数据集\n",
    "# 使用TimePDE创建数据集\n",
    "# 参数：\n",
    "# - geomtime: 时空域\n",
    "# - navier_stokes: 定义的PDE方程\n",
    "# - [ic_u, ic_v, ic_p]: 初始条件\n",
    "# - num_domain: 域内点数\n",
    "# - num_boundary: 边界点数\n",
    "# - num_initial: 初始点数\n",
    "# - num_test: 测试点数\n",
    "data = dde.data.TimePDE(\n",
    "    geomtime,\n",
    "    navier_stokes,\n",
    "    [ic_u, ic_v, ic_p],\n",
    "    num_domain=2000,\n",
    "    num_boundary=200,\n",
    "    num_initial=200,\n",
    "    num_test=1000,\n",
    ")"
   ]
  },
  {
   "cell_type": "markdown",
   "id": "d5af8b1e",
   "metadata": {},
   "source": [
    "## 6. 构建神经网络"
   ]
  },
  {
   "cell_type": "code",
   "execution_count": null,
   "id": "961c8766",
   "metadata": {},
   "outputs": [],
   "source": [
    "# ignore.type: ignore\n",
    "# 网络结构\n",
    "\"\"\"\n",
    "输入层：3个神经元（x, y, t坐标）\n",
    "隐藏层：3层，每层64个神经元\n",
    "输出层：3个神经元（u, v, p）\n",
    "激活函数：tanh\n",
    "参数初始化：Glorot uniform\n",
    "\"\"\"\n",
    "net = dde.nn.FNN([3] + [64] * 3 + [3], \"tanh\", \"Glorot uniform\") # type: ignore"
   ]
  },
  {
   "cell_type": "markdown",
   "id": "d4677408",
   "metadata": {},
   "source": [
    "## 7. 训练模型"
   ]
  },
  {
   "cell_type": "code",
   "execution_count": null,
   "id": "3639d5f2",
   "metadata": {},
   "outputs": [
    {
     "name": "stdout",
     "output_type": "stream",
     "text": [
      "Compiling model...\n",
      "'compile' took 0.000562 s\n",
      "\n",
      "Warning: epochs is deprecated and will be removed in a future version. Use iterations instead.\n",
      "Training model...\n",
      "\n",
      "Step      Train loss                                                      Test loss                                                       Test metric\n",
      "0         [6.05e-01, 7.05e-03, 1.19e-01, 7.56e-02, 1.68e-02, 8.58e-03]    [5.91e-01, 7.64e-03, 1.20e-01, 7.56e-02, 1.68e-02, 8.58e-03]    []  \n",
      "1000      [9.99e-06, 7.86e-07, 4.30e-07, 1.50e-07, 1.05e-06, 5.31e-07]    [6.56e-06, 4.82e-07, 2.46e-07, 1.50e-07, 1.05e-06, 5.31e-07]    []  \n",
      "2000      [1.76e-06, 4.20e-07, 1.89e-07, 8.33e-08, 5.64e-07, 2.12e-07]    [1.12e-06, 2.28e-07, 1.05e-07, 8.33e-08, 5.64e-07, 2.12e-07]    []  \n",
      "3000      [2.34e-07, 1.87e-07, 1.10e-07, 4.60e-08, 3.09e-07, 1.21e-07]    [1.42e-07, 1.07e-07, 5.48e-08, 4.60e-08, 3.09e-07, 1.21e-07]    []  \n",
      "4000      [1.03e-07, 8.29e-07, 7.48e-08, 2.05e-08, 1.83e-07, 1.66e-07]    [8.72e-08, 8.68e-07, 3.43e-08, 2.05e-08, 1.83e-07, 1.66e-07]    []  \n",
      "5000      [6.32e-08, 6.71e-08, 4.75e-08, 1.39e-08, 1.10e-07, 4.00e-08]    [4.05e-08, 4.39e-08, 2.15e-08, 1.39e-08, 1.10e-07, 4.00e-08]    []  \n",
      "6000      [1.35e-04, 2.98e-04, 5.17e-05, 7.97e-06, 8.80e-06, 1.29e-04]    [1.36e-04, 2.96e-04, 5.27e-05, 7.97e-06, 8.80e-06, 1.29e-04]    []  \n",
      "7000      [3.74e-08, 3.28e-08, 2.22e-08, 1.47e-08, 5.16e-08, 7.53e-09]    [2.08e-08, 1.84e-08, 1.08e-08, 1.47e-08, 5.16e-08, 7.53e-09]    []  \n",
      "8000      [2.42e-06, 1.88e-05, 3.12e-06, 8.50e-08, 1.95e-06, 8.82e-07]    [2.59e-06, 1.88e-05, 3.18e-06, 8.50e-08, 1.95e-06, 8.82e-07]    []  \n",
      "9000      [1.03e-07, 5.99e-07, 5.03e-08, 2.75e-08, 3.25e-08, 1.41e-07]    [5.89e-08, 6.08e-07, 2.74e-08, 2.75e-08, 3.25e-08, 1.41e-07]    []  \n",
      "10000     [1.65e-08, 1.78e-08, 1.02e-08, 1.33e-08, 2.31e-08, 6.08e-09]    [9.14e-09, 1.21e-08, 5.23e-09, 1.33e-08, 2.31e-08, 6.08e-09]    []  \n",
      "\n",
      "Best model at step 10000:\n",
      "  train loss: 8.69e-08\n",
      "  test loss: 6.90e-08\n",
      "  test metric: []\n",
      "\n",
      "'train' took 260.509809 s\n",
      "\n"
     ]
    },
    {
     "data": {
      "image/png": "[encoded data removed]",
      "text/plain": [
       "<Figure size 640x480 with 1 Axes>"
      ]
     },
     "metadata": {},
     "output_type": "display_data"
    }
   ],
   "source": [
    "# 构建模型\n",
    "\"\"\"\n",
    "使用Adam优化器训练10000轮，让神经网络学习满足：\n",
    "\n",
    "PDE方程残差最小\n",
    "初始条件误差最小\n",
    "\"\"\"\n",
    "model = dde.Model(data, net)\n",
    "model.compile(\"adam\", lr=1e-3)\n",
    "losshistory, train_state = model.train(epochs=10000)\n",
    "\n",
    "# 可视化损失\n",
    "dde.saveplot(losshistory, train_state, issave=False, isplot=True)"
   ]
  }
 ],
 "metadata": {
  "kernelspec": {
   "display_name": "pinn_env",
   "language": "python",
   "name": "python3"
  },
  "language_info": {
   "codemirror_mode": {
    "name": "ipython",
    "version": 3
   },
   "file_extension": ".py",
   "mimetype": "text/x-python",
   "name": "python",
   "nbconvert_exporter": "python",
   "pygments_lexer": "ipython3",
   "version": "3.10.18"
  }
 },
 "nbformat": 4,
 "nbformat_minor": 5
}
