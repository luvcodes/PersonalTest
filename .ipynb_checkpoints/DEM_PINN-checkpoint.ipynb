{
 "cells": [
  {
   "cell_type": "markdown",
   "id": "522686ba",
   "metadata": {},
   "source": [
    "# DEM-PINN"
   ]
  },
  {
   "cell_type": "code",
   "execution_count": 1,
   "id": "506fe91e",
   "metadata": {},
   "outputs": [],
   "source": [
    "import torch\n",
    "import torch.nn as nn\n",
    "import numpy as np"
   ]
  },
  {
   "cell_type": "markdown",
   "id": "c049b3ed",
   "metadata": {},
   "source": [
    "## 1. 定义神经网络"
   ]
  },
  {
   "cell_type": "code",
   "execution_count": 2,
   "id": "83437f06",
   "metadata": {},
   "outputs": [],
   "source": [
    "# 1. 定义神经网络\n",
    "class PINN(nn.Module):\n",
    "    def __init__(self):\n",
    "        super(PINN, self).__init__()\n",
    "        self.net = nn.Sequential(\n",
    "            nn.Linear(3, 64),  # 输入：t, x, y\n",
    "            nn.Tanh(),\n",
    "            nn.Linear(64, 64),\n",
    "            nn.Tanh(),\n",
    "            nn.Linear(64, 2)  # 输出：x(t), y(t)\n",
    "        )\n",
    "    \n",
    "    def forward(self, t, x, y):\n",
    "        inputs = torch.stack([t, x, y], dim=-1)  # 形状：(N, 3)\n",
    "        return self.net(inputs)  # 输出：(N, 2)"
   ]
  },
  {
   "cell_type": "markdown",
   "id": "50f2f8cd",
   "metadata": {},
   "source": [
    "## 2. 计算物理损失 (牛二定律)"
   ]
  },
  {
   "cell_type": "code",
   "execution_count": 3,
   "id": "75089ffd",
   "metadata": {},
   "outputs": [],
   "source": [
    "# 2. 计算物理损失（牛顿第二定律）\n",
    "def physics_loss(model, t, x, y, z_data, g=9.81):\n",
    "    t = t.requires_grad_(True)\n",
    "    x = x.requires_grad_(True)\n",
    "    y = y.requires_grad_(True)\n",
    "    \n",
    "    # 神经网络预测位置\n",
    "    xy_pred = model(t, x, y)  # 形状：(N, 2)\n",
    "    x_pred, y_pred = xy_pred[:, 0], xy_pred[:, 1]\n",
    "    \n",
    "    # 计算加速度（二阶导数）\n",
    "    ax = torch.autograd.grad(x_pred, t, grad_outputs=torch.ones_like(x_pred), create_graph=True)[0]\n",
    "    ax = torch.autograd.grad(ax, t, grad_outputs=torch.ones_like(ax), create_graph=True)[0]\n",
    "    ay = torch.autograd.grad(y_pred, t, grad_outputs=torch.ones_like(y_pred), create_graph=True)[0]\n",
    "    ay = torch.autograd.grad(ay, t, grad_outputs=torch.ones_like(ay), create_graph=True)[0]\n",
    "    \n",
    "    # 计算地形梯度（假设z_data是已知的函数或插值）\n",
    "    z_pred = z_data  # 这里需要你提供z(x, y)的函数或插值\n",
    "    dz_dx = torch.autograd.grad(z_pred, x, grad_outputs=torch.ones_like(z_pred), create_graph=True)[0]\n",
    "    dz_dy = torch.autograd.grad(z_pred, y, grad_outputs=torch.ones_like(z_pred), create_graph=True)[0]\n",
    "    \n",
    "    # 牛顿第二定律损失\n",
    "    fx = -g * dz_dx\n",
    "    fy = -g * dz_dy\n",
    "    physics_loss = torch.mean((ax - fx)**2 + (ay - fy)**2)\n",
    "    \n",
    "    return physics_loss"
   ]
  },
  {
   "cell_type": "markdown",
   "id": "14a21ded",
   "metadata": {},
   "source": [
    "## 3. 数据损失（初始/边界条件）"
   ]
  },
  {
   "cell_type": "code",
   "execution_count": 4,
   "id": "5a201350",
   "metadata": {},
   "outputs": [],
   "source": [
    "# 3. 数据损失（初始/边界条件）\n",
    "def data_loss(model, t, x, y, x0, y0):\n",
    "    xy_pred = model(t, x, y)\n",
    "    x_pred, y_pred = xy_pred[:, 0], xy_pred[:, 1]\n",
    "    loss = torch.mean((x_pred - x0)**2 + (y_pred - y0)**2)\n",
    "    return loss"
   ]
  },
  {
   "cell_type": "markdown",
   "id": "16c102c4",
   "metadata": {},
   "source": [
    "## 4. 训练函数"
   ]
  },
  {
   "cell_type": "code",
   "execution_count": 5,
   "id": "b6de90cb",
   "metadata": {},
   "outputs": [],
   "source": [
    "# 4. 训练函数\n",
    "def train_pinn(model, t_data, x_data, y_data, z_data, t_ic, x_ic, y_ic, epochs=1000):\n",
    "    optimizer = torch.optim.Adam(model.parameters(), lr=0.001)\n",
    "    \n",
    "    for epoch in range(epochs):\n",
    "        optimizer.zero_grad()\n",
    "        \n",
    "        # 物理损失\n",
    "        phys_loss = physics_loss(model, t_data, x_data, y_data, z_data)\n",
    "        \n",
    "        # 初始条件损失\n",
    "        data_loss_val = data_loss(model, t_ic, x_ic, y_ic, x_ic, y_ic)\n",
    "        \n",
    "        # 总损失\n",
    "        total_loss = phys_loss + 10.0 * data_loss_val  # 权重可调整\n",
    "        total_loss.backward()\n",
    "        optimizer.step()\n",
    "        \n",
    "        if epoch % 100 == 0:\n",
    "            print(f\"Epoch {epoch}, Loss: {total_loss.item():.6f}\")"
   ]
  },
  {
   "cell_type": "markdown",
   "id": "caf0a31e",
   "metadata": {},
   "source": [
    "# 5. 数据准备（示例）"
   ]
  },
  {
   "cell_type": "code",
   "execution_count": 8,
   "id": "44db0b8b",
   "metadata": {},
   "outputs": [
    {
     "data": {
      "text/plain": [
       "(tensor([[0.]]), tensor([[50.]]), tensor([[50.]]))"
      ]
     },
     "execution_count": 8,
     "metadata": {},
     "output_type": "execute_result"
    }
   ],
   "source": [
    "N = 1000  # 采样点数\n",
    "t_data = torch.rand(N, 1) * 1.0  # 时间范围 [0, 1]\n",
    "x_data = torch.rand(N, 1) * 100.0  # x范围 [0, 100]\n",
    "y_data = torch.rand(N, 1) * 100.0  # y范围 [0, 100]\n",
    "z_data = torch.sin(x_data * 0.1) + torch.cos(y_data * 0.1)  # 假设的DEM高度函数\n",
    "\n",
    "# 初始条件（示例）\n",
    "t_ic = torch.zeros(1, 1)  # 初始时间\n",
    "x_ic = torch.tensor([[50.0]])  # 初始x\n",
    "y_ic = torch.tensor([[50.0]])  # 初始y\n",
    "t_ic, x_ic, y_ic"
   ]
  },
  {
   "cell_type": "markdown",
   "id": "328bc9dc",
   "metadata": {},
   "source": [
    "## 6. 训练"
   ]
  },
  {
   "cell_type": "code",
   "execution_count": null,
   "id": "ef1c2a6b",
   "metadata": {},
   "outputs": [],
   "source": [
    "# 6. 训练\n",
    "model = PINN()\n",
    "train_pinn(model, t_data, x_data, y_data, z_data, t_ic, x_ic, y_ic)"
   ]
  }
 ],
 "metadata": {
  "kernelspec": {
   "display_name": "Python [conda env:pinn_env]",
   "language": "python",
   "name": "conda-env-pinn_env-py"
  },
  "language_info": {
   "codemirror_mode": {
    "name": "ipython",
    "version": 3
   },
   "file_extension": ".py",
   "mimetype": "text/x-python",
   "name": "python",
   "nbconvert_exporter": "python",
   "pygments_lexer": "ipython3",
   "version": "3.10.18"
  }
 },
 "nbformat": 4,
 "nbformat_minor": 5
}
