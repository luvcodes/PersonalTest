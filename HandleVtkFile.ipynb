{
 "cells": [
  {
   "cell_type": "code",
   "execution_count": 1,
   "id": "c4d582e4",
   "metadata": {},
   "outputs": [
    {
     "name": "stdout",
     "output_type": "stream",
     "text": [
      "点数: 9240\n",
      "单元数: 9240\n",
      "边界: BoundsTuple(x_min=0.0005994029925204813, x_max=0.04260079935193062, y_min=0.0005989120109006763, y_max=0.009400660172104836, z_min=0.0005995350074954331, z_max=0.053586799651384354)\n",
      "前5个点坐标:\n",
      "[[0.00060038 0.00060267 0.00060137]\n",
      " [0.00231073 0.0005998  0.00060006]\n",
      " [0.0036888  0.00060006 0.00060731]\n",
      " [0.00488955 0.00060334 0.00060332]\n",
      " [0.00608727 0.00071655 0.00060136]]\n"
     ]
    }
   ],
   "source": [
    "import pyvista as pv\n",
    "import vtk\n",
    "\n",
    "# 直接读取VTK文件\n",
    "mesh = pv.read(\"./liggghts_run_999600.vtk\")\n",
    "\n",
    "# 查看基本信息\n",
    "print(f\"点数: {mesh.n_points}\")\n",
    "print(f\"单元数: {mesh.n_cells}\")\n",
    "print(f\"边界: {mesh.bounds}\")\n",
    "\n",
    "# 访问点坐标\n",
    "points = mesh.points\n",
    "print(f\"前5个点坐标:\\n{points[:5]}\")"
   ]
  },
  {
   "cell_type": "code",
   "execution_count": 5,
   "id": "62db0015",
   "metadata": {},
   "outputs": [
    {
     "name": "stdout",
     "output_type": "stream",
     "text": [
      "点数据字段: ['id', 'type', 'v', 'f', 'radius', 'omega']\n"
     ]
    }
   ],
   "source": [
    "# 访问点数据和单元数据\n",
    "if mesh.point_data:\n",
    "    print(\"点数据字段:\", mesh.point_data.keys())\n",
    "if mesh.cell_data:\n",
    "    print(\"单元数据字段:\", mesh.cell_data.keys())\n",
    "\n",
    "# 可视化\n",
    "# mesh.plot(show_edges=True)"
   ]
  },
  {
   "cell_type": "markdown",
   "id": "5c94c35e",
   "metadata": {},
   "source": [
    "# 转换数据为CSV文件"
   ]
  },
  {
   "cell_type": "code",
   "execution_count": 4,
   "id": "822dbd5e",
   "metadata": {},
   "outputs": [],
   "source": [
    "import pandas as pd"
   ]
  },
  {
   "cell_type": "code",
   "execution_count": null,
   "id": "fc547810",
   "metadata": {},
   "outputs": [],
   "source": [
    "\n",
    "N = 50  # 选取前50个粒子\n",
    "mass = 1.0  # 如果不方便估算体积密度，可以先设常数\n",
    "\n",
    "# 坐标\n",
    "x, y, z = points[:N, 0], points[:N, 1], points[:N, 2]\n",
    "\n",
    "# 速度\n",
    "vx, vy, vz = mesh.point_data['v'][:N].T\n",
    "\n",
    "# 力\n",
    "fx, fy, fz = mesh.point_data['f'][:N].T\n",
    "\n",
    "# 加速度 a = F/m\n",
    "ax, ay, az = fx / mass, fy / mass, fz / mass\n",
    "\n",
    "# 打包 DataFrame（PINN训练数据）\n",
    "df = pd.DataFrame({\n",
    "    'x': x, 'y': y, 'z': z,\n",
    "    'vx': vx, 'vy': vy, 'vz': vz,\n",
    "    'ax': ax, 'ay': ay, 'az': az\n",
    "})\n",
    "df.to_csv(\"pinn_dataset.csv\", index=False)"
   ]
  },
  {
   "cell_type": "markdown",
   "id": "375fc88c",
   "metadata": {},
   "source": [
    "# PINN最小示例"
   ]
  },
  {
   "cell_type": "code",
   "execution_count": 1,
   "id": "c2991ced",
   "metadata": {},
   "outputs": [
    {
     "name": "stdout",
     "output_type": "stream",
     "text": [
      "[0] total=2.73e-02, data=1.95e-02, physics=7.81e-03\n",
      "[100] total=2.16e-05, data=2.14e-05, physics=1.25e-07\n",
      "[200] total=2.14e-05, data=2.13e-05, physics=8.89e-08\n",
      "[300] total=2.13e-05, data=2.12e-05, physics=8.86e-08\n",
      "[400] total=2.12e-05, data=2.11e-05, physics=8.81e-08\n",
      "[500] total=2.11e-05, data=2.10e-05, physics=8.76e-08\n",
      "[600] total=2.10e-05, data=2.09e-05, physics=8.70e-08\n",
      "[700] total=2.09e-05, data=2.08e-05, physics=8.64e-08\n",
      "[800] total=2.08e-05, data=2.07e-05, physics=8.57e-08\n",
      "[900] total=2.07e-05, data=2.06e-05, physics=8.50e-08\n"
     ]
    }
   ],
   "source": [
    "import pandas as pd\n",
    "import torch\n",
    "import torch.nn as nn\n",
    "import torch.autograd as autograd\n",
    "\n",
    "# === 1. 读取数据 ===\n",
    "df = pd.read_csv(\"pinn_dataset.csv\")\n",
    "X = torch.tensor(df[[\"x\", \"y\", \"z\"]].values, dtype=torch.float32, requires_grad=True)\n",
    "V = torch.tensor(df[[\"vx\", \"vy\", \"vz\"]].values, dtype=torch.float32)\n",
    "A = torch.tensor(df[[\"ax\", \"ay\", \"az\"]].values, dtype=torch.float32)\n",
    "\n",
    "# === 2. 构建PINN网络 ===\n",
    "class PINN(nn.Module):\n",
    "    def __init__(self):\n",
    "        super().__init__()\n",
    "        self.net = nn.Sequential(\n",
    "            nn.Linear(3, 64), nn.Tanh(),\n",
    "            nn.Linear(64, 64), nn.Tanh(),\n",
    "            nn.Linear(64, 3)\n",
    "        )\n",
    "    def forward(self, x):\n",
    "        return self.net(x)\n",
    "\n",
    "model = PINN()\n",
    "optimizer = torch.optim.Adam(model.parameters(), lr=1e-3)\n",
    "loss_fn = nn.MSELoss()\n",
    "\n",
    "# === 3. 训练 ===\n",
    "for epoch in range(1000):\n",
    "    optimizer.zero_grad()\n",
    "    v_pred = model(X)\n",
    "    loss_data = loss_fn(v_pred, V)\n",
    "\n",
    "    grads = autograd.grad(\n",
    "        outputs=v_pred, inputs=X,\n",
    "        grad_outputs=torch.ones_like(v_pred),\n",
    "        create_graph=True, only_inputs=True\n",
    "    )[0]\n",
    "\n",
    "    loss_phys = loss_fn(grads, A)\n",
    "    loss = loss_data + loss_phys\n",
    "    loss.backward()\n",
    "    optimizer.step()\n",
    "\n",
    "    if epoch % 100 == 0:\n",
    "        print(f\"[{epoch}] total={loss.item():.2e}, data={loss_data.item():.2e}, physics={loss_phys.item():.2e}\")"
   ]
  }
 ],
 "metadata": {
  "kernelspec": {
   "display_name": "pinn_env",
   "language": "python",
   "name": "python3"
  },
  "language_info": {
   "codemirror_mode": {
    "name": "ipython",
    "version": 3
   },
   "file_extension": ".py",
   "mimetype": "text/x-python",
   "name": "python",
   "nbconvert_exporter": "python",
   "pygments_lexer": "ipython3",
   "version": "3.10.18"
  }
 },
 "nbformat": 4,
 "nbformat_minor": 5
}
